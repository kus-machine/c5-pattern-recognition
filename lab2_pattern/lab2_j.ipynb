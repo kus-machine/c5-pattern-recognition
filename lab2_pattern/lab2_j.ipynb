{
 "cells": [
  {
   "cell_type": "code",
   "execution_count": 75,
   "metadata": {
    "collapsed": true
   },
   "outputs": [],
   "source": [
    "import importlib\n",
    "import lab2\n",
    "import copy\n",
    "import numpy as np\n",
    "from cv2 import imread, imwrite, imshow, waitKey, COLOR_BGR2RGB, cvtColor, vconcat, hconcat, putText, \\\n",
    "    FONT_HERSHEY_SIMPLEX, resize\n",
    "import time\n",
    "\n",
    "#from diffusion import take_params, get_probs, fill_graph_edges, diffusion_alg, labeling\n",
    "# importlib.reload(lab2)"
   ]
  },
  {
   "cell_type": "markdown",
   "source": [
    "Read the image as float array, rescale it and set the parameters:"
   ],
   "metadata": {
    "collapsed": false,
    "pycharm": {
     "name": "#%% md\n"
    }
   }
  },
  {
   "cell_type": "code",
   "execution_count": 76,
   "outputs": [],
   "source": [
    "filename = \"field4.jpg\"\n",
    "img1 = imread(filename)\n",
    "scale = [256, 256]\n",
    "img1_res = resize(img1, scale).astype(np.double)\n",
    "n_iterations = 100\n",
    "eps = 0.1"
   ],
   "metadata": {
    "collapsed": false,
    "pycharm": {
     "name": "#%%\n"
    }
   }
  },
  {
   "cell_type": "markdown",
   "source": [
    "Zero iteration:\n",
    "\n",
    "- take parameters of normal distribution from sky and ground on image;\n",
    "- create an array of probabilities of class 0 and class 1 for each pixel;\n",
    "- create start graph with edges depends on epsilon and probabilities;"
   ],
   "metadata": {
    "collapsed": false
   }
  },
  {
   "cell_type": "code",
   "execution_count": 77,
   "outputs": [
    {
     "name": "stdout",
     "output_type": "stream",
     "text": [
      "Zero iteration time:  0.27491140365600586 seconds; \n"
     ]
    }
   ],
   "source": [
    "start_time = time.time()\n",
    "\n",
    "mean0, mean1, cov0, cov1 = lab2.take_params(img1_res)\n",
    "PROBS = lab2.get_probs(img1_res, mean0, mean1, cov0, cov1)\n",
    "graph = lab2.fill_graph_edges(PROBS)\n",
    "\n",
    "zero_iter_time = time.time() - start_time\n",
    "print(\"Zero iteration time:  %s seconds; \" % zero_iter_time)"
   ],
   "metadata": {
    "collapsed": false,
    "pycharm": {
     "name": "#%%\n"
    }
   }
  },
  {
   "cell_type": "markdown",
   "source": [
    "Some start graph edges:"
   ],
   "metadata": {
    "collapsed": false,
    "pycharm": {
     "name": "#%% md\n"
    }
   }
  },
  {
   "cell_type": "code",
   "execution_count": 78,
   "outputs": [
    {
     "name": "stdout",
     "output_type": "stream",
     "text": [
      "[ -18.38909484  -64.92618995  -63.98835303 -114.91989731] \n",
      "\n",
      "[-880.96444233 -428.2904542  -466.6682609   -18.38872192]\n"
     ]
    }
   ],
   "source": [
    "print(graph[5, 2] , \"\\n\")\n",
    "print(graph[-2, -5])"
   ],
   "metadata": {
    "collapsed": false,
    "pycharm": {
     "name": "#%%\n"
    }
   }
  },
  {
   "cell_type": "markdown",
   "source": [
    "Diffusion algorithm:"
   ],
   "metadata": {
    "collapsed": false,
    "pycharm": {
     "name": "#%% md\n"
    }
   }
  },
  {
   "cell_type": "code",
   "source": [
    "start_time = time.time()\n",
    "\n",
    "new_graph = lab2.diffusion_alg(n_iterations, graph)\n",
    "\n",
    "alg_time = time.time() - start_time\n",
    "print(\"Diffusion time: %s seconds;\" % alg_time)\n",
    "print(\"time per diffusion iteration: \", alg_time / n_iterations)"
   ],
   "metadata": {
    "collapsed": false,
    "pycharm": {
     "name": "#%%\n"
    }
   },
   "execution_count": 79,
   "outputs": [
    {
     "name": "stdout",
     "output_type": "stream",
     "text": [
      "Diffusion time: 1.319575548171997 seconds;\n",
      "time per diffusion iteration:  0.013195755481719971\n"
     ]
    }
   ]
  },
  {
   "cell_type": "markdown",
   "source": [
    "Same edges after diffusion:"
   ],
   "metadata": {
    "collapsed": false,
    "pycharm": {
     "name": "#%% md\n"
    }
   }
  },
  {
   "cell_type": "code",
   "execution_count": 80,
   "outputs": [
    {
     "name": "stdout",
     "output_type": "stream",
     "text": [
      "[ 0.09427583  0.09427583  0.09427583 -4.30017333]\n",
      "[-4.6617421  -0.26729294 -0.26729294 -0.26729294]\n"
     ]
    }
   ],
   "source": [
    "print(new_graph[5, 2])\n",
    "print(new_graph[-2, -5])\n",
    "# np.savetxt('0.txt', new_graph[...,0 ],fmt='%.4f', delimiter='_')\n",
    "# np.savetxt('1.txt', new_graph[...,1 ],fmt='%.4f',  delimiter='_')\n",
    "# np.savetxt('2.txt', new_graph[...,2 ],fmt='%.4f',  delimiter='_')\n",
    "# np.savetxt('3.txt', new_graph[...,3 ],fmt='%.4f',  delimiter='_')\n"
   ],
   "metadata": {
    "collapsed": false,
    "pycharm": {
     "name": "#%%\n"
    }
   }
  },
  {
   "cell_type": "markdown",
   "source": [
    "Now we need to pick labeling for graph:"
   ],
   "metadata": {
    "collapsed": false
   }
  },
  {
   "cell_type": "code",
   "execution_count": 81,
   "outputs": [
    {
     "name": "stdout",
     "output_type": "stream",
     "text": [
      "labeling...\n",
      "Start epsilon:  4.394579820011432\n",
      "Deletions algorithm has ended\n",
      "For epsilon =  2.197289910005716 : looking...\n",
      "Deletions algorithm has ended\n",
      "For epsilon =  1.098644955002858 : looking...\n",
      "Deletions algorithm has ended\n",
      "For epsilon =  0.549322477501429 : looking...\n",
      "Deletions algorithm has ended\n",
      "For epsilon =  0.2746612387507145 : looking...\n",
      "Deletions algorithm has ended\n",
      "For epsilon =  0.13733061937535726 : looking...\n",
      "Deletions algorithm has ended\n",
      "Final labeling founded;\n",
      " Final epsilon =  0.13733061937535726\n",
      "Labeling time: 3.298940658569336 seconds;\n"
     ]
    }
   ],
   "source": [
    "start_time = time.time()\n",
    "\n",
    "graph_for_label = copy.deepcopy(new_graph)\n",
    "labeling_graph, final_labels = lab2.labeling(graph_for_label)\n",
    "\n",
    "alg_time = time.time() - start_time\n",
    "print(\"Labeling time: %s seconds;\" % alg_time)\n",
    "# print(\"time per Labeling iteration: \", alg_time / n_iterations)"
   ],
   "metadata": {
    "collapsed": false,
    "pycharm": {
     "name": "#%%\n"
    }
   }
  },
  {
   "cell_type": "code",
   "execution_count": 82,
   "outputs": [
    {
     "name": "stdout",
     "output_type": "stream",
     "text": [
      "[[0 0 0 ... 1 0 0]\n",
      " [0 0 1 ... 0 0 1]\n",
      " [0 0 1 ... 0 0 0]\n",
      " ...\n",
      " [1 0 1 ... 1 1 0]\n",
      " [0 0 1 ... 0 1 0]\n",
      " [1 0 0 ... 1 0 0]]\n"
     ]
    },
    {
     "data": {
      "text/plain": "True"
     },
     "execution_count": 82,
     "metadata": {},
     "output_type": "execute_result"
    }
   ],
   "source": [
    "print(final_labels)\n",
    "\n",
    "result = np.zeros_like(img1_res)\n",
    "result[..., 0] = final_labels * 255\n",
    "result[..., 1] = final_labels * 255\n",
    "result[result[..., 0] == 0] = [0, 0, 255]\n",
    "result[result[..., 1] == 0] = [0, 0, 255]\n",
    "result2 = hconcat([(img1_res//2 + result //2), img1_res])\n",
    "imwrite('result2.png', result2)"
   ],
   "metadata": {
    "collapsed": false,
    "pycharm": {
     "name": "#%%\n"
    }
   }
  }
 ],
 "metadata": {
  "kernelspec": {
   "display_name": "Python 3",
   "language": "python",
   "name": "python3"
  },
  "language_info": {
   "codemirror_mode": {
    "name": "ipython",
    "version": 2
   },
   "file_extension": ".py",
   "mimetype": "text/x-python",
   "name": "python",
   "nbconvert_exporter": "python",
   "pygments_lexer": "ipython2",
   "version": "2.7.6"
  }
 },
 "nbformat": 4,
 "nbformat_minor": 0
}